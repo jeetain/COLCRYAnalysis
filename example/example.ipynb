{
 "cells": [
  {
   "cell_type": "code",
   "execution_count": null,
   "metadata": {
    "collapsed": false
   },
   "outputs": [],
   "source": [
    "import sys\n",
    "sys.path.append('../src/')\n",
    "import potential as pp\n",
    "import crystal as cr"
   ]
  },
  {
   "cell_type": "markdown",
   "metadata": {},
   "source": [
    "# Sample Library Generation from VMD Files"
   ]
  },
  {
   "cell_type": "markdown",
   "metadata": {},
   "source": [
    "In VMD, generate the g(r) from a snapshot.  Be sure to only store out to L/2, the record Ni, Nj, and V in a comment line at the top."
   ]
  },
  {
   "cell_type": "code",
   "execution_count": null,
   "metadata": {
    "collapsed": false
   },
   "outputs": [],
   "source": [
    "CuAu = cr.lattice()\n",
    "CuAu.assign(2,3,[1,1],\"CuAu\")\n",
    "for (i,j,fn) in [(0,0,'cu_cu.dat'), (0,1,'cu_au.dat'), (1,1,'au_au.dat')]:\n",
    "    CuAu.rdf_vmd2 (i,j,fn)\n",
    "CuAu.save_json ('CuAu_ref.json')"
   ]
  },
  {
   "cell_type": "code",
   "execution_count": null,
   "metadata": {
    "collapsed": true
   },
   "outputs": [],
   "source": [
    "CsCl = cr.lattice()\n",
    "CsCl.assign(2,3,[1,1],\"CsCl\")\n",
    "for (i,j,fn) in [(0,0,'cs_cs.dat'), (0,1,'cs_cl.dat'), (1,1,'cl_cl.dat')]:\n",
    "    CsCl.rdf_vmd2 (i,j,fn)\n",
    "CuAu.save_json ('CsCl_ref.json')"
   ]
  },
  {
   "cell_type": "markdown",
   "metadata": {},
   "source": [
    "# Energy Calculations & Sorting"
   ]
  },
  {
   "cell_type": "code",
   "execution_count": null,
   "metadata": {
    "collapsed": true
   },
   "outputs": [],
   "source": [
    "CuAu = cr.lattice('CuAu_ref.json')\n",
    "CsCl = cr.lattice('CsCl_ref.json')"
   ]
  },
  {
   "cell_type": "code",
   "execution_count": null,
   "metadata": {
    "collapsed": true
   },
   "outputs": [],
   "source": [
    "u00 = pp.lj_lambda()\n",
    "u01 = pp.lj_lambda()\n",
    "u11 = pp.lj_lambda()"
   ]
  },
  {
   "cell_type": "code",
   "execution_count": null,
   "metadata": {
    "collapsed": true
   },
   "outputs": [],
   "source": [
    "for (i,j,u) in [(0,0,u00.energy()), (0,1,u01.energy()), (1,1,u11.energy())]:\n",
    "    CuAu.set_potential (i,j,u)\n",
    "    CsCl.set_potential (i,j,u)"
   ]
  },
  {
   "cell_type": "code",
   "execution_count": null,
   "metadata": {
    "collapsed": true
   },
   "outputs": [],
   "source": [
    "bulk_stoich = [100, 100]\n",
    "CuAu.energy (bulk_stoich)\n",
    "CsCl.energy (bulk_stoich)\n",
    "print lattices.sort()"
   ]
  }
 ],
 "metadata": {
  "kernelspec": {
   "display_name": "Python 2",
   "language": "python",
   "name": "python2"
  },
  "language_info": {
   "codemirror_mode": {
    "name": "ipython",
    "version": 2
   },
   "file_extension": ".py",
   "mimetype": "text/x-python",
   "name": "python",
   "nbconvert_exporter": "python",
   "pygments_lexer": "ipython2",
   "version": "2.7.11"
  }
 },
 "nbformat": 4,
 "nbformat_minor": 0
}
